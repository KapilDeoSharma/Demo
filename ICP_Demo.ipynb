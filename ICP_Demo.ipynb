{
  "nbformat": 4,
  "nbformat_minor": 0,
  "metadata": {
    "colab": {
      "name": "ICP-Demo.ipynb",
      "provenance": [],
      "mount_file_id": "1bte1S91hCfAxhHYRsuVLoI0ObX7XQEZ_",
      "authorship_tag": "ABX9TyPWabrVnCjUEHG3XjiVcHaQ",
      "include_colab_link": true
    },
    "kernelspec": {
      "name": "python3",
      "display_name": "Python 3"
    },
    "language_info": {
      "name": "python"
    }
  },
  "cells": [
    {
      "cell_type": "markdown",
      "metadata": {
        "id": "view-in-github",
        "colab_type": "text"
      },
      "source": [
        "<a href=\"https://colab.research.google.com/github/KapilDeoSharma/Demo/blob/main/ICP_Demo.ipynb\" target=\"_parent\"><img src=\"https://colab.research.google.com/assets/colab-badge.svg\" alt=\"Open In Colab\"/></a>"
      ]
    },
    {
      "cell_type": "code",
      "metadata": {
        "colab": {
          "base_uri": "https://localhost:8080/"
        },
        "id": "oaxAlxKksYVj",
        "outputId": "492dfa1a-38bb-4805-fecc-4d9bc3f2a650"
      },
      "source": [
        "print('hello world')"
      ],
      "execution_count": 1,
      "outputs": [
        {
          "output_type": "stream",
          "text": [
            "hello world\n"
          ],
          "name": "stdout"
        }
      ]
    },
    {
      "cell_type": "code",
      "metadata": {
        "colab": {
          "base_uri": "https://localhost:8080/"
        },
        "id": "YOqMBBUtTCPr",
        "outputId": "34cafdb0-fb0e-4895-e8c0-3c15acf0b430"
      },
      "source": [
        "print('Hi class')"
      ],
      "execution_count": 2,
      "outputs": [
        {
          "output_type": "stream",
          "text": [
            "Hi class\n"
          ],
          "name": "stdout"
        }
      ]
    }
  ]
}